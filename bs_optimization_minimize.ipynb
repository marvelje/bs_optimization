{
 "cells": [
  {
   "cell_type": "markdown",
   "metadata": {},
   "source": [
    "# SCIPY minimize\n",
    "\n",
    "Below will test if minimize functionality is better suited for the nature of our GSIB contraint"
   ]
  },
  {
   "cell_type": "code",
   "execution_count": 1,
   "metadata": {},
   "outputs": [],
   "source": [
    "import pandas as pd\n",
    "import numpy as np\n",
    "import scipy.optimize as spo"
   ]
  },
  {
   "cell_type": "code",
   "execution_count": 3,
   "metadata": {},
   "outputs": [],
   "source": [
    "# Set options to print all columns of the dataframe\n",
    "\n",
    "pd.set_option('display.max_columns', None)"
   ]
  },
  {
   "cell_type": "code",
   "execution_count": 30,
   "metadata": {},
   "outputs": [],
   "source": [
    "# Read in BS data\n",
    "\n",
    "df = pd.read_excel('./data/sample_bs.xlsx', index_col=0, nrows=40, usecols='A:AO')"
   ]
  },
  {
   "cell_type": "code",
   "execution_count": 25,
   "metadata": {},
   "outputs": [
    {
     "data": {
      "text/html": [
       "<div>\n",
       "<style scoped>\n",
       "    .dataframe tbody tr th:only-of-type {\n",
       "        vertical-align: middle;\n",
       "    }\n",
       "\n",
       "    .dataframe tbody tr th {\n",
       "        vertical-align: top;\n",
       "    }\n",
       "\n",
       "    .dataframe thead th {\n",
       "        text-align: right;\n",
       "    }\n",
       "</style>\n",
       "<table border=\"1\" class=\"dataframe\">\n",
       "  <thead>\n",
       "    <tr style=\"text-align: right;\">\n",
       "      <th></th>\n",
       "      <th>Product</th>\n",
       "      <th>start</th>\n",
       "      <th>grow</th>\n",
       "      <th>shrink</th>\n",
       "      <th>spread</th>\n",
       "      <th>A_L</th>\n",
       "      <th>b1_leverage</th>\n",
       "      <th>a_rwa</th>\n",
       "      <th>s_rwa</th>\n",
       "      <th>gsib_leverage</th>\n",
       "      <th>gsib_xjd_claim</th>\n",
       "      <th>gsib_xjd_liab</th>\n",
       "      <th>gsib_intrafin_claim</th>\n",
       "      <th>gsib_intrafin_liab</th>\n",
       "      <th>gsib_securities</th>\n",
       "      <th>gsib_payment</th>\n",
       "      <th>gsib_auc</th>\n",
       "      <th>gsib_underwriting</th>\n",
       "      <th>gsib_otc</th>\n",
       "      <th>`</th>\n",
       "      <th>gsib_level3</th>\n",
       "      <th>CET1_resource</th>\n",
       "      <th>T1_resource</th>\n",
       "      <th>total_capital_resource</th>\n",
       "      <th>TLAC_resource</th>\n",
       "      <th>gsib_leverage_score</th>\n",
       "      <th>gsib_xjd_claim_score</th>\n",
       "      <th>gsib_xjd_liab_score</th>\n",
       "      <th>gsib_intrafin_claim_score</th>\n",
       "      <th>gsib_intrafin_liab_score</th>\n",
       "      <th>gsib_securities_score</th>\n",
       "      <th>gsib_payment_score</th>\n",
       "      <th>gsib_auc_score</th>\n",
       "      <th>gsib_underwriting_score</th>\n",
       "      <th>gsib_otc_score</th>\n",
       "      <th>gsib_trading_score</th>\n",
       "      <th>gsib_level3_score</th>\n",
       "      <th>total_score</th>\n",
       "      <th>cet1_contr</th>\n",
       "    </tr>\n",
       "    <tr>\n",
       "      <th>Index</th>\n",
       "      <th></th>\n",
       "      <th></th>\n",
       "      <th></th>\n",
       "      <th></th>\n",
       "      <th></th>\n",
       "      <th></th>\n",
       "      <th></th>\n",
       "      <th></th>\n",
       "      <th></th>\n",
       "      <th></th>\n",
       "      <th></th>\n",
       "      <th></th>\n",
       "      <th></th>\n",
       "      <th></th>\n",
       "      <th></th>\n",
       "      <th></th>\n",
       "      <th></th>\n",
       "      <th></th>\n",
       "      <th></th>\n",
       "      <th></th>\n",
       "      <th></th>\n",
       "      <th></th>\n",
       "      <th></th>\n",
       "      <th></th>\n",
       "      <th></th>\n",
       "      <th></th>\n",
       "      <th></th>\n",
       "      <th></th>\n",
       "      <th></th>\n",
       "      <th></th>\n",
       "      <th></th>\n",
       "      <th></th>\n",
       "      <th></th>\n",
       "      <th></th>\n",
       "      <th></th>\n",
       "      <th></th>\n",
       "      <th></th>\n",
       "      <th></th>\n",
       "      <th></th>\n",
       "    </tr>\n",
       "  </thead>\n",
       "  <tbody>\n",
       "    <tr>\n",
       "      <th>1</th>\n",
       "      <td>prime_auto</td>\n",
       "      <td>15000</td>\n",
       "      <td>8000</td>\n",
       "      <td>-5000</td>\n",
       "      <td>80</td>\n",
       "      <td>1</td>\n",
       "      <td>1</td>\n",
       "      <td>0.2</td>\n",
       "      <td>1.0</td>\n",
       "      <td>1</td>\n",
       "      <td>0.0</td>\n",
       "      <td>0</td>\n",
       "      <td>0.0</td>\n",
       "      <td>0</td>\n",
       "      <td>0</td>\n",
       "      <td>0</td>\n",
       "      <td>0</td>\n",
       "      <td>0</td>\n",
       "      <td>0.0</td>\n",
       "      <td>0.0</td>\n",
       "      <td>0.0</td>\n",
       "      <td>0</td>\n",
       "      <td>0</td>\n",
       "      <td>0</td>\n",
       "      <td>0</td>\n",
       "      <td>3.0</td>\n",
       "      <td>0.0</td>\n",
       "      <td>0.0</td>\n",
       "      <td>0.0</td>\n",
       "      <td>0.0</td>\n",
       "      <td>0.0</td>\n",
       "      <td>0</td>\n",
       "      <td>0.0</td>\n",
       "      <td>0</td>\n",
       "      <td>0.0</td>\n",
       "      <td>0</td>\n",
       "      <td>0.0</td>\n",
       "      <td>3.0</td>\n",
       "      <td>0.000144</td>\n",
       "    </tr>\n",
       "    <tr>\n",
       "      <th>2</th>\n",
       "      <td>subprime_auto</td>\n",
       "      <td>4000</td>\n",
       "      <td>2000</td>\n",
       "      <td>-1000</td>\n",
       "      <td>150</td>\n",
       "      <td>1</td>\n",
       "      <td>1</td>\n",
       "      <td>0.8</td>\n",
       "      <td>1.0</td>\n",
       "      <td>1</td>\n",
       "      <td>0.0</td>\n",
       "      <td>0</td>\n",
       "      <td>0.0</td>\n",
       "      <td>0</td>\n",
       "      <td>0</td>\n",
       "      <td>0</td>\n",
       "      <td>0</td>\n",
       "      <td>0</td>\n",
       "      <td>0.0</td>\n",
       "      <td>0.0</td>\n",
       "      <td>0.0</td>\n",
       "      <td>0</td>\n",
       "      <td>0</td>\n",
       "      <td>0</td>\n",
       "      <td>0</td>\n",
       "      <td>0.8</td>\n",
       "      <td>0.0</td>\n",
       "      <td>0.0</td>\n",
       "      <td>0.0</td>\n",
       "      <td>0.0</td>\n",
       "      <td>0.0</td>\n",
       "      <td>0</td>\n",
       "      <td>0.0</td>\n",
       "      <td>0</td>\n",
       "      <td>0.0</td>\n",
       "      <td>0</td>\n",
       "      <td>0.0</td>\n",
       "      <td>0.8</td>\n",
       "      <td>0.000039</td>\n",
       "    </tr>\n",
       "    <tr>\n",
       "      <th>3</th>\n",
       "      <td>mtg_30_fixed</td>\n",
       "      <td>50000</td>\n",
       "      <td>30000</td>\n",
       "      <td>-15000</td>\n",
       "      <td>70</td>\n",
       "      <td>1</td>\n",
       "      <td>1</td>\n",
       "      <td>0.3</td>\n",
       "      <td>0.5</td>\n",
       "      <td>1</td>\n",
       "      <td>0.0</td>\n",
       "      <td>0</td>\n",
       "      <td>0.0</td>\n",
       "      <td>0</td>\n",
       "      <td>0</td>\n",
       "      <td>0</td>\n",
       "      <td>0</td>\n",
       "      <td>0</td>\n",
       "      <td>0.0</td>\n",
       "      <td>0.0</td>\n",
       "      <td>0.0</td>\n",
       "      <td>0</td>\n",
       "      <td>0</td>\n",
       "      <td>0</td>\n",
       "      <td>0</td>\n",
       "      <td>10.0</td>\n",
       "      <td>0.0</td>\n",
       "      <td>0.0</td>\n",
       "      <td>0.0</td>\n",
       "      <td>0.0</td>\n",
       "      <td>0.0</td>\n",
       "      <td>0</td>\n",
       "      <td>0.0</td>\n",
       "      <td>0</td>\n",
       "      <td>0.0</td>\n",
       "      <td>0</td>\n",
       "      <td>0.0</td>\n",
       "      <td>10.0</td>\n",
       "      <td>0.000482</td>\n",
       "    </tr>\n",
       "    <tr>\n",
       "      <th>4</th>\n",
       "      <td>mtg_15_fixed</td>\n",
       "      <td>15000</td>\n",
       "      <td>8000</td>\n",
       "      <td>-3000</td>\n",
       "      <td>72</td>\n",
       "      <td>1</td>\n",
       "      <td>1</td>\n",
       "      <td>0.3</td>\n",
       "      <td>0.5</td>\n",
       "      <td>1</td>\n",
       "      <td>0.0</td>\n",
       "      <td>0</td>\n",
       "      <td>0.0</td>\n",
       "      <td>0</td>\n",
       "      <td>0</td>\n",
       "      <td>0</td>\n",
       "      <td>0</td>\n",
       "      <td>0</td>\n",
       "      <td>0.0</td>\n",
       "      <td>0.0</td>\n",
       "      <td>0.0</td>\n",
       "      <td>0</td>\n",
       "      <td>0</td>\n",
       "      <td>0</td>\n",
       "      <td>0</td>\n",
       "      <td>3.0</td>\n",
       "      <td>0.0</td>\n",
       "      <td>0.0</td>\n",
       "      <td>0.0</td>\n",
       "      <td>0.0</td>\n",
       "      <td>0.0</td>\n",
       "      <td>0</td>\n",
       "      <td>0.0</td>\n",
       "      <td>0</td>\n",
       "      <td>0.0</td>\n",
       "      <td>0</td>\n",
       "      <td>0.0</td>\n",
       "      <td>3.0</td>\n",
       "      <td>0.000144</td>\n",
       "    </tr>\n",
       "    <tr>\n",
       "      <th>5</th>\n",
       "      <td>mtg_7_fixed</td>\n",
       "      <td>5000</td>\n",
       "      <td>2500</td>\n",
       "      <td>-2000</td>\n",
       "      <td>70</td>\n",
       "      <td>1</td>\n",
       "      <td>1</td>\n",
       "      <td>0.3</td>\n",
       "      <td>0.5</td>\n",
       "      <td>1</td>\n",
       "      <td>0.0</td>\n",
       "      <td>0</td>\n",
       "      <td>0.0</td>\n",
       "      <td>0</td>\n",
       "      <td>0</td>\n",
       "      <td>0</td>\n",
       "      <td>0</td>\n",
       "      <td>0</td>\n",
       "      <td>0.0</td>\n",
       "      <td>0.0</td>\n",
       "      <td>0.0</td>\n",
       "      <td>0</td>\n",
       "      <td>0</td>\n",
       "      <td>0</td>\n",
       "      <td>0</td>\n",
       "      <td>1.0</td>\n",
       "      <td>0.0</td>\n",
       "      <td>0.0</td>\n",
       "      <td>0.0</td>\n",
       "      <td>0.0</td>\n",
       "      <td>0.0</td>\n",
       "      <td>0</td>\n",
       "      <td>0.0</td>\n",
       "      <td>0</td>\n",
       "      <td>0.0</td>\n",
       "      <td>0</td>\n",
       "      <td>0.0</td>\n",
       "      <td>1.0</td>\n",
       "      <td>0.000048</td>\n",
       "    </tr>\n",
       "  </tbody>\n",
       "</table>\n",
       "</div>"
      ],
      "text/plain": [
       "             Product  start   grow  shrink  spread  A_L  b1_leverage  a_rwa  \\\n",
       "Index                                                                         \n",
       "1         prime_auto  15000   8000   -5000      80    1            1    0.2   \n",
       "2      subprime_auto   4000   2000   -1000     150    1            1    0.8   \n",
       "3       mtg_30_fixed  50000  30000  -15000      70    1            1    0.3   \n",
       "4       mtg_15_fixed  15000   8000   -3000      72    1            1    0.3   \n",
       "5        mtg_7_fixed   5000   2500   -2000      70    1            1    0.3   \n",
       "\n",
       "       s_rwa  gsib_leverage  gsib_xjd_claim  gsib_xjd_liab  \\\n",
       "Index                                                        \n",
       "1        1.0              1             0.0              0   \n",
       "2        1.0              1             0.0              0   \n",
       "3        0.5              1             0.0              0   \n",
       "4        0.5              1             0.0              0   \n",
       "5        0.5              1             0.0              0   \n",
       "\n",
       "       gsib_intrafin_claim  gsib_intrafin_liab  gsib_securities  gsib_payment  \\\n",
       "Index                                                                           \n",
       "1                      0.0                   0                0             0   \n",
       "2                      0.0                   0                0             0   \n",
       "3                      0.0                   0                0             0   \n",
       "4                      0.0                   0                0             0   \n",
       "5                      0.0                   0                0             0   \n",
       "\n",
       "       gsib_auc  gsib_underwriting  gsib_otc    `  gsib_level3  CET1_resource  \\\n",
       "Index                                                                           \n",
       "1             0                  0       0.0  0.0          0.0              0   \n",
       "2             0                  0       0.0  0.0          0.0              0   \n",
       "3             0                  0       0.0  0.0          0.0              0   \n",
       "4             0                  0       0.0  0.0          0.0              0   \n",
       "5             0                  0       0.0  0.0          0.0              0   \n",
       "\n",
       "       T1_resource  total_capital_resource  TLAC_resource  \\\n",
       "Index                                                       \n",
       "1                0                       0              0   \n",
       "2                0                       0              0   \n",
       "3                0                       0              0   \n",
       "4                0                       0              0   \n",
       "5                0                       0              0   \n",
       "\n",
       "       gsib_leverage_score  gsib_xjd_claim_score  gsib_xjd_liab_score  \\\n",
       "Index                                                                   \n",
       "1                      3.0                   0.0                  0.0   \n",
       "2                      0.8                   0.0                  0.0   \n",
       "3                     10.0                   0.0                  0.0   \n",
       "4                      3.0                   0.0                  0.0   \n",
       "5                      1.0                   0.0                  0.0   \n",
       "\n",
       "       gsib_intrafin_claim_score  gsib_intrafin_liab_score  \\\n",
       "Index                                                        \n",
       "1                            0.0                       0.0   \n",
       "2                            0.0                       0.0   \n",
       "3                            0.0                       0.0   \n",
       "4                            0.0                       0.0   \n",
       "5                            0.0                       0.0   \n",
       "\n",
       "       gsib_securities_score  gsib_payment_score  gsib_auc_score  \\\n",
       "Index                                                              \n",
       "1                        0.0                   0             0.0   \n",
       "2                        0.0                   0             0.0   \n",
       "3                        0.0                   0             0.0   \n",
       "4                        0.0                   0             0.0   \n",
       "5                        0.0                   0             0.0   \n",
       "\n",
       "       gsib_underwriting_score  gsib_otc_score  gsib_trading_score  \\\n",
       "Index                                                                \n",
       "1                            0             0.0                   0   \n",
       "2                            0             0.0                   0   \n",
       "3                            0             0.0                   0   \n",
       "4                            0             0.0                   0   \n",
       "5                            0             0.0                   0   \n",
       "\n",
       "       gsib_level3_score  total_score  cet1_contr  \n",
       "Index                                              \n",
       "1                    0.0          3.0    0.000144  \n",
       "2                    0.0          0.8    0.000039  \n",
       "3                    0.0         10.0    0.000482  \n",
       "4                    0.0          3.0    0.000144  \n",
       "5                    0.0          1.0    0.000048  "
      ]
     },
     "execution_count": 25,
     "metadata": {},
     "output_type": "execute_result"
    }
   ],
   "source": [
    "df.head()"
   ]
  },
  {
   "cell_type": "code",
   "execution_count": 26,
   "metadata": {},
   "outputs": [
    {
     "data": {
      "text/html": [
       "<div>\n",
       "<style scoped>\n",
       "    .dataframe tbody tr th:only-of-type {\n",
       "        vertical-align: middle;\n",
       "    }\n",
       "\n",
       "    .dataframe tbody tr th {\n",
       "        vertical-align: top;\n",
       "    }\n",
       "\n",
       "    .dataframe thead th {\n",
       "        text-align: right;\n",
       "    }\n",
       "</style>\n",
       "<table border=\"1\" class=\"dataframe\">\n",
       "  <thead>\n",
       "    <tr style=\"text-align: right;\">\n",
       "      <th></th>\n",
       "      <th>CET1</th>\n",
       "      <th>T1</th>\n",
       "      <th>total_capital</th>\n",
       "      <th>TLAC</th>\n",
       "    </tr>\n",
       "  </thead>\n",
       "  <tbody>\n",
       "    <tr>\n",
       "      <th>SRWA</th>\n",
       "      <td>0.080000</td>\n",
       "      <td>0.095</td>\n",
       "      <td>0.115</td>\n",
       "      <td>0.195</td>\n",
       "    </tr>\n",
       "    <tr>\n",
       "      <th>ARWA</th>\n",
       "      <td>0.080000</td>\n",
       "      <td>0.095</td>\n",
       "      <td>0.115</td>\n",
       "      <td>0.195</td>\n",
       "    </tr>\n",
       "    <tr>\n",
       "      <th>leverage</th>\n",
       "      <td>0.075000</td>\n",
       "      <td>0.090</td>\n",
       "      <td>NaN</td>\n",
       "      <td>NaN</td>\n",
       "    </tr>\n",
       "    <tr>\n",
       "      <th>GSIB</th>\n",
       "      <td>0.000048</td>\n",
       "      <td>NaN</td>\n",
       "      <td>NaN</td>\n",
       "      <td>NaN</td>\n",
       "    </tr>\n",
       "  </tbody>\n",
       "</table>\n",
       "</div>"
      ],
      "text/plain": [
       "              CET1     T1  total_capital   TLAC\n",
       "SRWA      0.080000  0.095          0.115  0.195\n",
       "ARWA      0.080000  0.095          0.115  0.195\n",
       "leverage  0.075000  0.090            NaN    NaN\n",
       "GSIB      0.000048    NaN            NaN    NaN"
      ]
     },
     "execution_count": 26,
     "metadata": {},
     "output_type": "execute_result"
    }
   ],
   "source": [
    "# Read in constraints\n",
    "\n",
    "constraints = pd.read_excel('./data/sample_bs.xlsx', index_col=0, sheet_name='constraints')\n",
    "\n",
    "constraints"
   ]
  },
  {
   "cell_type": "markdown",
   "metadata": {},
   "source": [
    "## Objective function\n",
    "\n",
    "- This is simply an array of the negative return (i.e., profitability)\n",
    "- Since the optimization will actually be minimizing this, we just flip the sign"
   ]
  },
  {
   "cell_type": "code",
   "execution_count": 86,
   "metadata": {},
   "outputs": [],
   "source": [
    "# Define NSI to be passed as part of args\n",
    "\n",
    "nsi = np.array(df['spread'])"
   ]
  },
  {
   "cell_type": "code",
   "execution_count": 87,
   "metadata": {},
   "outputs": [],
   "source": [
    "def obj_fun(x, nsi):\n",
    "    sva = 0\n",
    "#     nsi = np.array(df['spread'])\n",
    "    \n",
    "    for i in range(len(x)):\n",
    "        sva += -(nsi[i] * x[i])\n",
    "    \n",
    "    return sva"
   ]
  },
  {
   "cell_type": "markdown",
   "metadata": {},
   "source": [
    "## Starting Guess\n",
    "\n",
    "- The initial balances"
   ]
  },
  {
   "cell_type": "code",
   "execution_count": 34,
   "metadata": {},
   "outputs": [],
   "source": [
    "x0 = np.array(df['start'])"
   ]
  },
  {
   "cell_type": "markdown",
   "metadata": {},
   "source": [
    "## Inequality Constraints\n",
    "- Advanced and Standardized RWA"
   ]
  },
  {
   "cell_type": "code",
   "execution_count": 146,
   "metadata": {},
   "outputs": [],
   "source": [
    "sRWA_mins = list(constraints.loc['SRWA', :])"
   ]
  },
  {
   "cell_type": "code",
   "execution_count": 147,
   "metadata": {},
   "outputs": [
    {
     "data": {
      "text/plain": [
       "0.08"
      ]
     },
     "execution_count": 147,
     "metadata": {},
     "output_type": "execute_result"
    }
   ],
   "source": [
    "sRWA_mins[0]"
   ]
  },
  {
   "cell_type": "code",
   "execution_count": 167,
   "metadata": {},
   "outputs": [
    {
     "data": {
      "text/plain": [
       "308.9999999999927"
      ]
     },
     "execution_count": 167,
     "metadata": {},
     "output_type": "execute_result"
    }
   ],
   "source": [
    "srwa_cet1(np.array(df['start']))"
   ]
  },
  {
   "cell_type": "code",
   "execution_count": 166,
   "metadata": {},
   "outputs": [],
   "source": [
    "def srwa_cet1(x, df=df):\n",
    "    # Define GSIB add-on\n",
    "    gsib_addon = 0\n",
    "    gsib_cont = np.array(df['cet1_contr_per_balance'])\n",
    "    \n",
    "    # Define base RWA min\n",
    "    sRWA_mins = list(constraints.loc['SRWA', :])\n",
    "    \n",
    "    s_rwa = np.array(df['s_rwa'])\n",
    "    cet1_resource = np.array(df['CET1_resource'])\n",
    "    cet1_constraint = 0\n",
    "    \n",
    "    for i in range(len(x)):\n",
    "        gsib_addon += x[i] * gsib_cont[i]\n",
    "    \n",
    "    for i in range(len(x)):\n",
    "        cet1_constraint += -((sRWA_mins[0] + gsib_addon) * s_rwa[i] * x[i]) + cet1_resource[i] * x[i]\n",
    "        \n",
    "    return cet1_constraint"
   ]
  },
  {
   "cell_type": "markdown",
   "metadata": {},
   "source": [
    "## Equality Constraints\n",
    "\n",
    "- Assets must equal liabilities"
   ]
  },
  {
   "cell_type": "code",
   "execution_count": 149,
   "metadata": {},
   "outputs": [],
   "source": [
    "def eq_constraint(x, df=df):   \n",
    "    # Create array of Asset / Liability weights\n",
    "    a_l_weight = np.array(df['A_L'])\n",
    "    \n",
    "    # Define target (assets must equal liabilities so the difference is 0)\n",
    "    eq = 0\n",
    "    \n",
    "    for i in range(len(x)):\n",
    "        eq = eq - x[i] * a_l_weight[i]\n",
    "    \n",
    "    return eq"
   ]
  },
  {
   "cell_type": "markdown",
   "metadata": {},
   "source": [
    "## Consolidate Constraints\n",
    "\n",
    "Convert to Scipy minimize formatting"
   ]
  },
  {
   "cell_type": "code",
   "execution_count": 168,
   "metadata": {},
   "outputs": [],
   "source": [
    "con1 = {'type': 'ineq', 'fun': srwa_cet1}\n",
    "con2 = {'type': 'eq', 'fun': eq_constraint}\n",
    "\n",
    "cons = [con1, con2]"
   ]
  },
  {
   "cell_type": "markdown",
   "metadata": {},
   "source": [
    "## Upper and Lower Bounds"
   ]
  },
  {
   "cell_type": "code",
   "execution_count": 169,
   "metadata": {},
   "outputs": [],
   "source": [
    "# Create upper and lower bounds. This is the grow and shrink amount for each item\n",
    "\n",
    "df['u_bound'] = df['start'] + df['grow']\n",
    "df['l_bound'] = df['start'] + df['shrink']\n",
    "\n",
    "# Create tuple of lower / upper bounds\n",
    "df['bounds'] = df.apply(lambda row: tuple((row['l_bound'], row['u_bound'])), axis=1)"
   ]
  },
  {
   "cell_type": "code",
   "execution_count": 170,
   "metadata": {},
   "outputs": [],
   "source": [
    "# Define bounds in format needed for linprog\n",
    "\n",
    "bounds = tuple(df['bounds'])"
   ]
  },
  {
   "cell_type": "code",
   "execution_count": 171,
   "metadata": {},
   "outputs": [
    {
     "data": {
      "text/plain": [
       "((10000, 23000),\n",
       " (3000, 6000),\n",
       " (35000, 80000),\n",
       " (12000, 23000),\n",
       " (3000, 7500),\n",
       " (16000, 30000),\n",
       " (8000, 13500),\n",
       " (50000, 80000),\n",
       " (13000, 17500),\n",
       " (15000, 35000),\n",
       " (46500, 70000),\n",
       " (28000, 60000),\n",
       " (85000, 140000),\n",
       " (70000, 105000),\n",
       " (48000, 75000),\n",
       " (65000, 95000),\n",
       " (27500, 34000),\n",
       " (9700, 13000),\n",
       " (750, 1500),\n",
       " (0, 0),\n",
       " (140000, 240000),\n",
       " (53500, 88500),\n",
       " (65000, 110000),\n",
       " (15000, 26000),\n",
       " (12000, 30000),\n",
       " (3500, 7000),\n",
       " (30000, 75000),\n",
       " (17000, 32000),\n",
       " (12000, 22000),\n",
       " (6500, 12500),\n",
       " (16000, 40000),\n",
       " (9500, 16000),\n",
       " (5000, 10000),\n",
       " (2000, 4000),\n",
       " (3000, 1053000),\n",
       " (0, 0),\n",
       " (1500, 154000),\n",
       " (1000, 21000),\n",
       " (1500, 31000),\n",
       " (3000, 103000))"
      ]
     },
     "execution_count": 171,
     "metadata": {},
     "output_type": "execute_result"
    }
   ],
   "source": [
    "bounds"
   ]
  },
  {
   "cell_type": "markdown",
   "metadata": {},
   "source": [
    "## Minimize\n",
    "\n",
    "Solvers:\n",
    "- trust-constr\n",
    "- SLSQP"
   ]
  },
  {
   "cell_type": "code",
   "execution_count": 172,
   "metadata": {
    "scrolled": true
   },
   "outputs": [],
   "source": [
    "sol = spo.minimize(obj_fun, x0, method = 'trust-constr', bounds=bounds, constraints=cons, args = (nsi))"
   ]
  },
  {
   "cell_type": "code",
   "execution_count": 173,
   "metadata": {
    "scrolled": true
   },
   "outputs": [
    {
     "data": {
      "text/plain": [
       "True"
      ]
     },
     "execution_count": 173,
     "metadata": {},
     "output_type": "execute_result"
    }
   ],
   "source": [
    "sol.success"
   ]
  },
  {
   "cell_type": "code",
   "execution_count": 174,
   "metadata": {},
   "outputs": [
    {
     "data": {
      "text/plain": [
       "-159315187.11519355"
      ]
     },
     "execution_count": 174,
     "metadata": {},
     "output_type": "execute_result"
    }
   ],
   "source": [
    "sol.fun"
   ]
  },
  {
   "cell_type": "code",
   "execution_count": 176,
   "metadata": {},
   "outputs": [
    {
     "data": {
      "text/plain": [
       "array([ 1.00000000e+04,  6.00000000e+03,  8.00000000e+04,  2.30000000e+04,\n",
       "        7.49999999e+03,  3.00000000e+04,  1.35000000e+04,  8.00000000e+04,\n",
       "        1.75000000e+04,  1.50000000e+04,  4.65000000e+04,  2.80000000e+04,\n",
       "        8.50000000e+04,  1.05000000e+05,  7.50000000e+04,  9.50000000e+04,\n",
       "        3.40000000e+04,  1.30000000e+04,  1.50000000e+03, -1.03756147e-15,\n",
       "        2.40000000e+05,  8.85000000e+04,  1.10000000e+05,  2.60000000e+04,\n",
       "        3.00000000e+04,  4.05067364e+03,  7.50000000e+04,  3.20000000e+04,\n",
       "        2.20000000e+04,  1.25000000e+04,  4.00000000e+04,  9.50000001e+03,\n",
       "        5.00000002e+03,  2.00000001e+03,  3.00000001e+03, -6.07532043e-16,\n",
       "        6.04493264e+04,  1.00000000e+03,  1.50000000e+03,  3.00000000e+03])"
      ]
     },
     "execution_count": 176,
     "metadata": {},
     "output_type": "execute_result"
    }
   ],
   "source": [
    "sol.x"
   ]
  },
  {
   "cell_type": "code",
   "execution_count": 177,
   "metadata": {},
   "outputs": [],
   "source": [
    "test = pd.DataFrame(sol.x)"
   ]
  },
  {
   "cell_type": "code",
   "execution_count": 178,
   "metadata": {},
   "outputs": [],
   "source": [
    "test.to_excel('./results/scr.xlsx')"
   ]
  },
  {
   "cell_type": "code",
   "execution_count": null,
   "metadata": {},
   "outputs": [],
   "source": []
  }
 ],
 "metadata": {
  "kernelspec": {
   "display_name": "Python (learn-env)",
   "language": "python",
   "name": "learn-env"
  },
  "language_info": {
   "codemirror_mode": {
    "name": "ipython",
    "version": 3
   },
   "file_extension": ".py",
   "mimetype": "text/x-python",
   "name": "python",
   "nbconvert_exporter": "python",
   "pygments_lexer": "ipython3",
   "version": "3.8.5"
  }
 },
 "nbformat": 4,
 "nbformat_minor": 4
}
