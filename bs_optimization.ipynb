{
 "cells": [
  {
   "cell_type": "markdown",
   "metadata": {},
   "source": [
    "# BS Optimization\n",
    "\n",
    "- This script will take a fake BS and perform an optimization to determine highest profit generating balances\n",
    "- After the first successful run, I will layer on additional complexity in terms of contraints"
   ]
  },
  {
   "cell_type": "code",
   "execution_count": 25,
   "metadata": {},
   "outputs": [],
   "source": [
    "import pandas as pd\n",
    "import numpy as np\n",
    "import scipy.optimize as spo"
   ]
  },
  {
   "cell_type": "code",
   "execution_count": 2,
   "metadata": {},
   "outputs": [],
   "source": [
    "# Define objective function\n",
    "# Only used in the version of that uses the 'minimize' function\n",
    "\n",
    "# def fun(x):\n",
    "    \n",
    "#     sva = x * nsi\n",
    "    \n",
    "#     return -sva"
   ]
  },
  {
   "cell_type": "code",
   "execution_count": 37,
   "metadata": {},
   "outputs": [],
   "source": [
    "# Define starting balances\n",
    "# Not need for linprog implementation\n",
    "\n",
    "# x0 = np.array(df['start'])\n",
    "\n",
    "# x0.reshape(-1, 1)"
   ]
  },
  {
   "cell_type": "code",
   "execution_count": 32,
   "metadata": {},
   "outputs": [],
   "source": [
    "# Read in BS data\n",
    "\n",
    "df = pd.read_excel('./data/sample_bs.xlsx', index_col=0, nrows=26)"
   ]
  },
  {
   "cell_type": "code",
   "execution_count": 33,
   "metadata": {},
   "outputs": [
    {
     "data": {
      "text/html": [
       "<div>\n",
       "<style scoped>\n",
       "    .dataframe tbody tr th:only-of-type {\n",
       "        vertical-align: middle;\n",
       "    }\n",
       "\n",
       "    .dataframe tbody tr th {\n",
       "        vertical-align: top;\n",
       "    }\n",
       "\n",
       "    .dataframe thead th {\n",
       "        text-align: right;\n",
       "    }\n",
       "</style>\n",
       "<table border=\"1\" class=\"dataframe\">\n",
       "  <thead>\n",
       "    <tr style=\"text-align: right;\">\n",
       "      <th></th>\n",
       "      <th>Product</th>\n",
       "      <th>start</th>\n",
       "      <th>grow</th>\n",
       "      <th>shrink</th>\n",
       "      <th>spread</th>\n",
       "      <th>A_L</th>\n",
       "      <th>a_rwa</th>\n",
       "      <th>s_rwa</th>\n",
       "      <th>srwa_min</th>\n",
       "      <th>gsib</th>\n",
       "    </tr>\n",
       "    <tr>\n",
       "      <th>Index</th>\n",
       "      <th></th>\n",
       "      <th></th>\n",
       "      <th></th>\n",
       "      <th></th>\n",
       "      <th></th>\n",
       "      <th></th>\n",
       "      <th></th>\n",
       "      <th></th>\n",
       "      <th></th>\n",
       "      <th></th>\n",
       "    </tr>\n",
       "  </thead>\n",
       "  <tbody>\n",
       "    <tr>\n",
       "      <th>1</th>\n",
       "      <td>prime_auto</td>\n",
       "      <td>10000</td>\n",
       "      <td>5000</td>\n",
       "      <td>-3000</td>\n",
       "      <td>80</td>\n",
       "      <td>1</td>\n",
       "      <td>0.2</td>\n",
       "      <td>1.0</td>\n",
       "      <td>0.115</td>\n",
       "      <td>NaN</td>\n",
       "    </tr>\n",
       "    <tr>\n",
       "      <th>2</th>\n",
       "      <td>subprime_auto</td>\n",
       "      <td>2000</td>\n",
       "      <td>2000</td>\n",
       "      <td>-500</td>\n",
       "      <td>150</td>\n",
       "      <td>1</td>\n",
       "      <td>0.6</td>\n",
       "      <td>1.0</td>\n",
       "      <td>0.115</td>\n",
       "      <td>NaN</td>\n",
       "    </tr>\n",
       "    <tr>\n",
       "      <th>3</th>\n",
       "      <td>mtg_30_fixed</td>\n",
       "      <td>40000</td>\n",
       "      <td>20000</td>\n",
       "      <td>-10000</td>\n",
       "      <td>70</td>\n",
       "      <td>1</td>\n",
       "      <td>0.3</td>\n",
       "      <td>0.5</td>\n",
       "      <td>0.115</td>\n",
       "      <td>NaN</td>\n",
       "    </tr>\n",
       "    <tr>\n",
       "      <th>4</th>\n",
       "      <td>mtg_15_fixed</td>\n",
       "      <td>15000</td>\n",
       "      <td>8000</td>\n",
       "      <td>-3000</td>\n",
       "      <td>72</td>\n",
       "      <td>1</td>\n",
       "      <td>0.3</td>\n",
       "      <td>0.5</td>\n",
       "      <td>0.115</td>\n",
       "      <td>NaN</td>\n",
       "    </tr>\n",
       "    <tr>\n",
       "      <th>5</th>\n",
       "      <td>mtg_7_fixed</td>\n",
       "      <td>5000</td>\n",
       "      <td>2500</td>\n",
       "      <td>-2000</td>\n",
       "      <td>70</td>\n",
       "      <td>1</td>\n",
       "      <td>0.3</td>\n",
       "      <td>0.5</td>\n",
       "      <td>0.115</td>\n",
       "      <td>NaN</td>\n",
       "    </tr>\n",
       "  </tbody>\n",
       "</table>\n",
       "</div>"
      ],
      "text/plain": [
       "             Product  start   grow  shrink  spread  A_L  a_rwa  s_rwa  \\\n",
       "Index                                                                   \n",
       "1         prime_auto  10000   5000   -3000      80    1    0.2    1.0   \n",
       "2      subprime_auto   2000   2000    -500     150    1    0.6    1.0   \n",
       "3       mtg_30_fixed  40000  20000  -10000      70    1    0.3    0.5   \n",
       "4       mtg_15_fixed  15000   8000   -3000      72    1    0.3    0.5   \n",
       "5        mtg_7_fixed   5000   2500   -2000      70    1    0.3    0.5   \n",
       "\n",
       "       srwa_min  gsib  \n",
       "Index                  \n",
       "1         0.115   NaN  \n",
       "2         0.115   NaN  \n",
       "3         0.115   NaN  \n",
       "4         0.115   NaN  \n",
       "5         0.115   NaN  "
      ]
     },
     "execution_count": 33,
     "metadata": {},
     "output_type": "execute_result"
    }
   ],
   "source": [
    "df.head()"
   ]
  },
  {
   "cell_type": "code",
   "execution_count": 30,
   "metadata": {},
   "outputs": [],
   "source": [
    "# Define objective function coefficients\n",
    "# We are 'minimizing' the spread so will make this negative\n",
    "\n",
    "c = -np.array(df['spread'])"
   ]
  },
  {
   "cell_type": "markdown",
   "metadata": {},
   "source": [
    "## Inequality Constraint\n",
    "\n",
    "- The inequality constraint for our optimization is the the SRWA % * 11% * the balance - equity needs to be greater than or equal to 0.\n",
    "- Since it is greater than, for purposes of Scipy notation, we need to flip the sign"
   ]
  },
  {
   "cell_type": "code",
   "execution_count": 31,
   "metadata": {},
   "outputs": [],
   "source": [
    "# Define the CET1 minimum\n",
    "\n",
    "CET1_min = 0.11 "
   ]
  },
  {
   "cell_type": "code",
   "execution_count": 44,
   "metadata": {},
   "outputs": [],
   "source": [
    "# Multiply the RWA % by the RWA minimum and flip the sign\n",
    "\n",
    "A_ineq = [list(-(df['s_rwa'] * df['srwa_min']))]\n",
    "\n",
    "# Define the other side of the inequality equation (we want to be at least at the minimum, so this is 0)\n",
    "\n",
    "b_ineq = [0]"
   ]
  },
  {
   "cell_type": "markdown",
   "metadata": {},
   "source": [
    "## Equality Constraint\n",
    "\n",
    "- This constraint says that Assets - Liabilities must equal to 0.\n",
    "- I've pre-programmed this to an extent by including a assets (+100%) and liability (-100%) weight in the inputs."
   ]
  },
  {
   "cell_type": "code",
   "execution_count": 46,
   "metadata": {},
   "outputs": [],
   "source": [
    "# Create Asset and Liability equality constraint.\n",
    "\n",
    "A_eq = [list(df['A_L'])]"
   ]
  },
  {
   "cell_type": "code",
   "execution_count": 23,
   "metadata": {},
   "outputs": [],
   "source": [
    "# Equality constraint vector defined below. This is saying that assets must equal liabilities on the B/S\n",
    "\n",
    "a_l_constraint = 0\n",
    "\n",
    "b_eq = [a_l_constraint]"
   ]
  },
  {
   "cell_type": "code",
   "execution_count": 6,
   "metadata": {},
   "outputs": [],
   "source": [
    "# Create upper and lower bounds. This is the grow and shrink amount for each item\n",
    "\n",
    "df['u_bound'] = df['start'] + df['grow']\n",
    "df['l_bound'] = df['start'] + df['shrink']\n",
    "\n",
    "# Create tuple of lower / upper bounds\n",
    "df['bounds'] = df.apply(lambda row: tuple((row['l_bound'], row['u_bound'])), axis=1)"
   ]
  },
  {
   "cell_type": "code",
   "execution_count": 16,
   "metadata": {},
   "outputs": [],
   "source": [
    "# Define bounds in format needed for linprog\n",
    "\n",
    "bounds = list(df['bounds'])"
   ]
  },
  {
   "cell_type": "markdown",
   "metadata": {},
   "source": [
    "## Optimize B/S"
   ]
  },
  {
   "cell_type": "code",
   "execution_count": 52,
   "metadata": {},
   "outputs": [],
   "source": [
    "res = spo.linprog(c, A_ub = A_ineq, b_ub = b_ineq, A_eq = A_eq, b_eq = b_eq, bounds = bounds, method='revised simplex')"
   ]
  },
  {
   "cell_type": "markdown",
   "metadata": {},
   "source": [
    "## Results"
   ]
  },
  {
   "cell_type": "code",
   "execution_count": 56,
   "metadata": {},
   "outputs": [
    {
     "data": {
      "text/plain": [
       "True"
      ]
     },
     "execution_count": 56,
     "metadata": {},
     "output_type": "execute_result"
    }
   ],
   "source": [
    "# This shows that a solution was found\n",
    "\n",
    "res.success"
   ]
  },
  {
   "cell_type": "code",
   "execution_count": 57,
   "metadata": {},
   "outputs": [
    {
     "data": {
      "text/plain": [
       "-215653500.0"
      ]
     },
     "execution_count": 57,
     "metadata": {},
     "output_type": "execute_result"
    }
   ],
   "source": [
    "# Show the output of the objective function\n",
    "\n",
    "res.fun"
   ]
  },
  {
   "cell_type": "code",
   "execution_count": 60,
   "metadata": {},
   "outputs": [
    {
     "data": {
      "text/plain": [
       "1.0300621293419938"
      ]
     },
     "execution_count": 60,
     "metadata": {},
     "output_type": "execute_result"
    }
   ],
   "source": [
    "# Compare to starting profitability\n",
    "\n",
    "start_profitability = -sum(df['start'] * df['spread'])\n",
    "\n",
    "(res.fun - start_profitability) / start_profitability\n",
    "\n",
    "# Profitability doubled!"
   ]
  },
  {
   "cell_type": "code",
   "execution_count": 61,
   "metadata": {},
   "outputs": [
    {
     "data": {
      "text/plain": [
       "array([ 15000.,   4000.,  60000.,  23000.,   7500.,  30000.,  13500.,\n",
       "        70000.,  17500.,  35000.,  50000.,  60000., 110000., 105000.,\n",
       "        75000.,  95000.,  34000.,   1500., 235000.,  85000., 130000.,\n",
       "        35000., 125500.,  62000., 136000.,  -2500.])"
      ]
     },
     "execution_count": 61,
     "metadata": {},
     "output_type": "execute_result"
    }
   ],
   "source": [
    "# Show ending balances\n",
    "\n",
    "res.x"
   ]
  },
  {
   "cell_type": "code",
   "execution_count": 63,
   "metadata": {},
   "outputs": [],
   "source": [
    "# Append ending balance to our data and compare growth vs. shrink\n",
    "\n",
    "df['optimal_balance'] = res.x\n",
    "\n",
    "df['balance_change'] = df['optimal_balance'] - df['start']"
   ]
  },
  {
   "cell_type": "code",
   "execution_count": 64,
   "metadata": {},
   "outputs": [],
   "source": [
    "balance_results = df[['Product', 'balance_change']]"
   ]
  },
  {
   "cell_type": "code",
   "execution_count": 65,
   "metadata": {},
   "outputs": [
    {
     "data": {
      "text/html": [
       "<div>\n",
       "<style scoped>\n",
       "    .dataframe tbody tr th:only-of-type {\n",
       "        vertical-align: middle;\n",
       "    }\n",
       "\n",
       "    .dataframe tbody tr th {\n",
       "        vertical-align: top;\n",
       "    }\n",
       "\n",
       "    .dataframe thead th {\n",
       "        text-align: right;\n",
       "    }\n",
       "</style>\n",
       "<table border=\"1\" class=\"dataframe\">\n",
       "  <thead>\n",
       "    <tr style=\"text-align: right;\">\n",
       "      <th></th>\n",
       "      <th>Product</th>\n",
       "      <th>balance_change</th>\n",
       "    </tr>\n",
       "    <tr>\n",
       "      <th>Index</th>\n",
       "      <th></th>\n",
       "      <th></th>\n",
       "    </tr>\n",
       "  </thead>\n",
       "  <tbody>\n",
       "    <tr>\n",
       "      <th>1</th>\n",
       "      <td>prime_auto</td>\n",
       "      <td>5000.0</td>\n",
       "    </tr>\n",
       "    <tr>\n",
       "      <th>2</th>\n",
       "      <td>subprime_auto</td>\n",
       "      <td>2000.0</td>\n",
       "    </tr>\n",
       "    <tr>\n",
       "      <th>3</th>\n",
       "      <td>mtg_30_fixed</td>\n",
       "      <td>20000.0</td>\n",
       "    </tr>\n",
       "    <tr>\n",
       "      <th>4</th>\n",
       "      <td>mtg_15_fixed</td>\n",
       "      <td>8000.0</td>\n",
       "    </tr>\n",
       "    <tr>\n",
       "      <th>5</th>\n",
       "      <td>mtg_7_fixed</td>\n",
       "      <td>2500.0</td>\n",
       "    </tr>\n",
       "    <tr>\n",
       "      <th>6</th>\n",
       "      <td>mtg_15_arm</td>\n",
       "      <td>10000.0</td>\n",
       "    </tr>\n",
       "    <tr>\n",
       "      <th>7</th>\n",
       "      <td>mtg_7_arm</td>\n",
       "      <td>3500.0</td>\n",
       "    </tr>\n",
       "    <tr>\n",
       "      <th>8</th>\n",
       "      <td>consumer_card</td>\n",
       "      <td>20000.0</td>\n",
       "    </tr>\n",
       "    <tr>\n",
       "      <th>9</th>\n",
       "      <td>business_card</td>\n",
       "      <td>2500.0</td>\n",
       "    </tr>\n",
       "    <tr>\n",
       "      <th>10</th>\n",
       "      <td>business_loan_revolver</td>\n",
       "      <td>15000.0</td>\n",
       "    </tr>\n",
       "    <tr>\n",
       "      <th>11</th>\n",
       "      <td>business_loan_term</td>\n",
       "      <td>10000.0</td>\n",
       "    </tr>\n",
       "    <tr>\n",
       "      <th>12</th>\n",
       "      <td>commercial_loan_revolver</td>\n",
       "      <td>20000.0</td>\n",
       "    </tr>\n",
       "    <tr>\n",
       "      <th>13</th>\n",
       "      <td>commercial_loan_term</td>\n",
       "      <td>30000.0</td>\n",
       "    </tr>\n",
       "    <tr>\n",
       "      <th>14</th>\n",
       "      <td>rates</td>\n",
       "      <td>25000.0</td>\n",
       "    </tr>\n",
       "    <tr>\n",
       "      <th>15</th>\n",
       "      <td>equities</td>\n",
       "      <td>15000.0</td>\n",
       "    </tr>\n",
       "    <tr>\n",
       "      <th>16</th>\n",
       "      <td>fixed_income</td>\n",
       "      <td>20000.0</td>\n",
       "    </tr>\n",
       "    <tr>\n",
       "      <th>17</th>\n",
       "      <td>prime</td>\n",
       "      <td>4000.0</td>\n",
       "    </tr>\n",
       "    <tr>\n",
       "      <th>18</th>\n",
       "      <td>payments</td>\n",
       "      <td>500.0</td>\n",
       "    </tr>\n",
       "    <tr>\n",
       "      <th>19</th>\n",
       "      <td>consumer_checking</td>\n",
       "      <td>60000.0</td>\n",
       "    </tr>\n",
       "    <tr>\n",
       "      <th>20</th>\n",
       "      <td>consumer_savings</td>\n",
       "      <td>25000.0</td>\n",
       "    </tr>\n",
       "    <tr>\n",
       "      <th>21</th>\n",
       "      <td>business_op_deposit</td>\n",
       "      <td>30000.0</td>\n",
       "    </tr>\n",
       "    <tr>\n",
       "      <th>22</th>\n",
       "      <td>business_nonop_deposit</td>\n",
       "      <td>15000.0</td>\n",
       "    </tr>\n",
       "    <tr>\n",
       "      <th>23</th>\n",
       "      <td>commercial_op_deposits</td>\n",
       "      <td>35000.0</td>\n",
       "    </tr>\n",
       "    <tr>\n",
       "      <th>24</th>\n",
       "      <td>commercial_nonop_deposit</td>\n",
       "      <td>20000.0</td>\n",
       "    </tr>\n",
       "    <tr>\n",
       "      <th>25</th>\n",
       "      <td>commercial_paper</td>\n",
       "      <td>83000.0</td>\n",
       "    </tr>\n",
       "    <tr>\n",
       "      <th>26</th>\n",
       "      <td>equity</td>\n",
       "      <td>-55000.0</td>\n",
       "    </tr>\n",
       "  </tbody>\n",
       "</table>\n",
       "</div>"
      ],
      "text/plain": [
       "                        Product  balance_change\n",
       "Index                                          \n",
       "1                    prime_auto          5000.0\n",
       "2                 subprime_auto          2000.0\n",
       "3                  mtg_30_fixed         20000.0\n",
       "4                  mtg_15_fixed          8000.0\n",
       "5                   mtg_7_fixed          2500.0\n",
       "6                    mtg_15_arm         10000.0\n",
       "7                     mtg_7_arm          3500.0\n",
       "8                 consumer_card         20000.0\n",
       "9                 business_card          2500.0\n",
       "10       business_loan_revolver         15000.0\n",
       "11           business_loan_term         10000.0\n",
       "12     commercial_loan_revolver         20000.0\n",
       "13         commercial_loan_term         30000.0\n",
       "14                        rates         25000.0\n",
       "15                     equities         15000.0\n",
       "16                 fixed_income         20000.0\n",
       "17                        prime          4000.0\n",
       "18                     payments           500.0\n",
       "19            consumer_checking         60000.0\n",
       "20             consumer_savings         25000.0\n",
       "21          business_op_deposit         30000.0\n",
       "22       business_nonop_deposit         15000.0\n",
       "23       commercial_op_deposits         35000.0\n",
       "24     commercial_nonop_deposit         20000.0\n",
       "25             commercial_paper         83000.0\n",
       "26                       equity        -55000.0"
      ]
     },
     "execution_count": 65,
     "metadata": {},
     "output_type": "execute_result"
    }
   ],
   "source": [
    "# Aha, this shows that something is wrong in the formula of our optimization.\n",
    "\n",
    "balance_results"
   ]
  },
  {
   "cell_type": "code",
   "execution_count": null,
   "metadata": {},
   "outputs": [],
   "source": []
  }
 ],
 "metadata": {
  "kernelspec": {
   "display_name": "Python (learn-env)",
   "language": "python",
   "name": "learn-env"
  },
  "language_info": {
   "codemirror_mode": {
    "name": "ipython",
    "version": 3
   },
   "file_extension": ".py",
   "mimetype": "text/x-python",
   "name": "python",
   "nbconvert_exporter": "python",
   "pygments_lexer": "ipython3",
   "version": "3.8.5"
  }
 },
 "nbformat": 4,
 "nbformat_minor": 5
}
